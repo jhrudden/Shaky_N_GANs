{
 "cells": [
  {
   "cell_type": "code",
   "execution_count": 82,
   "metadata": {},
   "outputs": [],
   "source": [
    "import os\n",
    "from utils import load_decode_and_split_shakespeare"
   ]
  },
  {
   "cell_type": "code",
   "execution_count": 83,
   "metadata": {},
   "outputs": [],
   "source": [
    "DATA_PATH = 'data/'"
   ]
  },
  {
   "cell_type": "code",
   "execution_count": 84,
   "metadata": {},
   "outputs": [],
   "source": [
    "train = load_decode_and_split_shakespeare('train')\n",
    "test = load_decode_and_split_shakespeare('test')\n",
    "validation = load_decode_and_split_shakespeare('validation')"
   ]
  },
  {
   "cell_type": "code",
   "execution_count": 85,
   "metadata": {},
   "outputs": [],
   "source": [
    "def save_sentences(save_path, sents):\n",
    "    with open(save_path, 'w') as f:\n",
    "        for sentence in sents:\n",
    "            f.write(sentence + '\\n')"
   ]
  },
  {
   "cell_type": "code",
   "execution_count": 86,
   "metadata": {},
   "outputs": [],
   "source": [
    "save_sentences(os.path.join(DATA_PATH, 'raw_train.txt'), train)\n",
    "save_sentences(os.path.join(DATA_PATH, 'raw_test.txt'), test)\n",
    "save_sentences(os.path.join(DATA_PATH, 'raw_validation.txt'), validation)"
   ]
  }
 ],
 "metadata": {
  "kernelspec": {
   "display_name": "shaky_env",
   "language": "python",
   "name": "python3"
  },
  "language_info": {
   "codemirror_mode": {
    "name": "ipython",
    "version": 3
   },
   "file_extension": ".py",
   "mimetype": "text/x-python",
   "name": "python",
   "nbconvert_exporter": "python",
   "pygments_lexer": "ipython3",
   "version": "3.11.6"
  }
 },
 "nbformat": 4,
 "nbformat_minor": 2
}

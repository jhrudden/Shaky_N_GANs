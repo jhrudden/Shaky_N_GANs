{
 "cells": [
  {
   "cell_type": "code",
   "execution_count": 1,
   "metadata": {},
   "outputs": [],
   "source": [
    "import numpy as np\n",
    "from nltk import tokenize\n",
    "import ngram"
   ]
  },
  {
   "cell_type": "code",
   "execution_count": 2,
   "metadata": {},
   "outputs": [],
   "source": [
    "TRAIN_DATA_PATH = 'data/raw_train.txt'\n",
    "with open(TRAIN_DATA_PATH, 'r') as f:\n",
    "    text = f.readlines()\n",
    "\n",
    "# Tokenize the text\n",
    "tokenized_text = [tokenize.word_tokenize(line) for line in text]"
   ]
  },
  {
   "cell_type": "code",
   "execution_count": 3,
   "metadata": {},
   "outputs": [
    {
     "data": {
      "text/plain": [
       "23394"
      ]
     },
     "execution_count": 3,
     "metadata": {},
     "output_type": "execute_result"
    }
   ],
   "source": [
    "test_split = int(len(tokenized_text) * 0.2)\n",
    "train_corpus = tokenized_text[test_split:]\n",
    "test_corpus = tokenized_text[:test_split]\n",
    "len(train_corpus)"
   ]
  },
  {
   "cell_type": "code",
   "execution_count": 4,
   "metadata": {},
   "outputs": [],
   "source": [
    "li_ngram = ngram.NGRAM_Model(4, scoring_method='LI_grid_search')\n",
    "laplace_gram = ngram.NGRAM_Model(4)"
   ]
  },
  {
   "cell_type": "code",
   "execution_count": 5,
   "metadata": {},
   "outputs": [],
   "source": [
    "li_ngram.train(train_corpus)"
   ]
  },
  {
   "cell_type": "code",
   "execution_count": 6,
   "metadata": {},
   "outputs": [],
   "source": [
    "laplace_gram.train(train_corpus)"
   ]
  },
  {
   "cell_type": "code",
   "execution_count": 7,
   "metadata": {},
   "outputs": [],
   "source": [
    "li_perp = np.mean([li_ngram.perplexity(x) for x in test_corpus])"
   ]
  },
  {
   "cell_type": "code",
   "execution_count": 8,
   "metadata": {},
   "outputs": [],
   "source": [
    "laplace_perp = np.mean([laplace_gram.perplexity(x) for x in test_corpus])"
   ]
  },
  {
   "cell_type": "code",
   "execution_count": 9,
   "metadata": {},
   "outputs": [
    {
     "name": "stdout",
     "output_type": "stream",
     "text": [
      "Perplexity of LI model: 85.05477676314015\n",
      "Perplexity of Laplace model: 271.0038173144343\n"
     ]
    }
   ],
   "source": [
    "print(f'Perplexity of LI model: {li_perp}')\n",
    "print(f'Perplexity of Laplace model: {laplace_perp}')"
   ]
  },
  {
   "cell_type": "code",
   "execution_count": 10,
   "metadata": {},
   "outputs": [],
   "source": [
    "def translate_sents(generate_sentences):\n",
    "    SPECIAL_TOKENS = [ngram.SENTENCE_BEGIN, ngram.SENTENCE_END]\n",
    "    updated_sentences = [list(filter(lambda x: x not in SPECIAL_TOKENS, s)) for s in generate_sentences]\n",
    "    # join sentences\n",
    "    updated_sentences = [' '.join(s) for s in updated_sentences]\n",
    "    return updated_sentences"
   ]
  },
  {
   "cell_type": "code",
   "execution_count": 11,
   "metadata": {},
   "outputs": [],
   "source": [
    "laplace_gen = laplace_gram.generate(10)\n",
    "formatted_laplace = translate_sents(laplace_gen)"
   ]
  },
  {
   "cell_type": "code",
   "execution_count": 12,
   "metadata": {},
   "outputs": [],
   "source": [
    "li_gen = li_ngram.generate(10)\n",
    "formatted_li = translate_sents(li_gen)"
   ]
  },
  {
   "cell_type": "code",
   "execution_count": 13,
   "metadata": {},
   "outputs": [
    {
     "data": {
      "text/plain": [
       "['Less <UNK> to gainsay what they did',\n",
       " 'beguile Nature of her custom , so <UNK> he is Angelo',\n",
       " 'any in Italy , and as many of',\n",
       " 'BALTHASAR :',\n",
       " 'Lords , knights , and gentlemen , what I should say rather ;',\n",
       " 'Isabel ,',\n",
       " 'GREMIO :',\n",
       " \"could have seen 't , the woe had been universal .\",\n",
       " 'crutches ere he was born desire yet their life to',\n",
       " 'Glad that you thus continue your resolve']"
      ]
     },
     "execution_count": 13,
     "metadata": {},
     "output_type": "execute_result"
    }
   ],
   "source": [
    "GEN_LAPACE_PATH = 'data/laplace_gen.txt'\n",
    "GEN_LI_PATH = 'data/li_gen.txt'\n",
    "with open(GEN_LAPACE_PATH, 'w') as f:\n",
    "    f.write('\\n'.join(formatted_laplace))\n",
    "with open(GEN_LI_PATH, 'w') as f:\n",
    "    f.write('\\n'.join(formatted_li))"
   ]
  },
  {
   "cell_type": "code",
   "execution_count": null,
   "metadata": {},
   "outputs": [],
   "source": []
  }
 ],
 "metadata": {
  "kernelspec": {
   "display_name": "Python 3",
   "language": "python",
   "name": "python3"
  },
  "language_info": {
   "codemirror_mode": {
    "name": "ipython",
    "version": 3
   },
   "file_extension": ".py",
   "mimetype": "text/x-python",
   "name": "python",
   "nbconvert_exporter": "python",
   "pygments_lexer": "ipython3",
   "version": "3.11.6"
  }
 },
 "nbformat": 4,
 "nbformat_minor": 2
}

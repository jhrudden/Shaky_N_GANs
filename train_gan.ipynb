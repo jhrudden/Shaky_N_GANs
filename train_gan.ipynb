{
 "cells": [
  {
   "cell_type": "code",
   "execution_count": 12,
   "metadata": {},
   "outputs": [],
   "source": [
    "import numpy as np\n",
    "import os\n",
    "from embeddings import SentenceEmbeddingDataset, WordEmbeddingManager, create_embedding_dataloader\n",
    "import utils\n",
    "import torch"
   ]
  },
  {
   "cell_type": "code",
   "execution_count": 2,
   "metadata": {},
   "outputs": [],
   "source": [
    "TRAIN_PATH = 'data/raw_train.txt'\n",
    "train_sentences = utils.load_sentences(TRAIN_PATH)\n",
    "tokenized_sentences = utils.tokenize_sentences(train_sentences)"
   ]
  },
  {
   "cell_type": "code",
   "execution_count": 3,
   "metadata": {},
   "outputs": [
    {
     "name": "stdout",
     "output_type": "stream",
     "text": [
      "Model loaded successfully from data/word2vec.model\n"
     ]
    }
   ],
   "source": [
    "WORD2VEC_MODEL_PATH = 'data/word2vec.model'\n",
    "word2vec_manager = WordEmbeddingManager(WORD2VEC_MODEL_PATH)"
   ]
  },
  {
   "cell_type": "code",
   "execution_count": 4,
   "metadata": {},
   "outputs": [],
   "source": [
    "dataloader = create_embedding_dataloader(tokenized_sentences, word2vec_manager, seq_length=10, batch_size=4)"
   ]
  },
  {
   "cell_type": "code",
   "execution_count": 5,
   "metadata": {},
   "outputs": [
    {
     "name": "stdout",
     "output_type": "stream",
     "text": [
      "['But', 'I', \"'ll\", 'acquaint', 'our', 'duteous', 'citizens']\n",
      "['Who', 'thrives', 'and', 'who', 'declines', ';', 'side', 'factions']\n",
      "['Can', 'be', 'but', 'brief', ';', 'for', 'I', 'have', 'made', 'him', 'know']\n",
      "['I', 'am', 'hurt', '.']\n"
     ]
    }
   ],
   "source": [
    "first_batch = next(iter(dataloader))"
   ]
  },
  {
   "cell_type": "code",
   "execution_count": null,
   "metadata": {},
   "outputs": [],
   "source": []
  }
 ],
 "metadata": {
  "kernelspec": {
   "display_name": "shaky_env",
   "language": "python",
   "name": "python3"
  },
  "language_info": {
   "codemirror_mode": {
    "name": "ipython",
    "version": 3
   },
   "file_extension": ".py",
   "mimetype": "text/x-python",
   "name": "python",
   "nbconvert_exporter": "python",
   "pygments_lexer": "ipython3",
   "version": "3.11.6"
  }
 },
 "nbformat": 4,
 "nbformat_minor": 2
}

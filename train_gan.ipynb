{
 "cells": [
  {
   "cell_type": "code",
   "execution_count": 1,
   "metadata": {},
   "outputs": [
    {
     "name": "stderr",
     "output_type": "stream",
     "text": [
      "/Users/johnhenryrudden/anaconda3/envs/shaky_env/lib/python3.11/site-packages/tqdm/auto.py:21: TqdmWarning: IProgress not found. Please update jupyter and ipywidgets. See https://ipywidgets.readthedocs.io/en/stable/user_install.html\n",
      "  from .autonotebook import tqdm as notebook_tqdm\n",
      "[nltk_data] Downloading package punkt to\n",
      "[nltk_data]     /Users/johnhenryrudden/nltk_data...\n",
      "[nltk_data]   Package punkt is already up-to-date!\n"
     ]
    }
   ],
   "source": [
    "import numpy as np\n",
    "import os\n",
    "from embeddings import SentenceEmbeddingDataset, WordEmbeddingManager, create_embedding_dataloader\n",
    "import utils\n",
    "import torch"
   ]
  },
  {
   "cell_type": "code",
   "execution_count": 2,
   "metadata": {},
   "outputs": [],
   "source": [
    "TRAIN_PATH = 'data/raw_train.txt'\n",
    "tokenized_sentences = utils.process_training_data(TRAIN_PATH)"
   ]
  },
  {
   "cell_type": "code",
   "execution_count": 3,
   "metadata": {},
   "outputs": [
    {
     "name": "stdout",
     "output_type": "stream",
     "text": [
      "Model loaded successfully from data/word2vec.model\n"
     ]
    }
   ],
   "source": [
    "WORD2VEC_MODEL_PATH = 'data/word2vec.model'\n",
    "word2vec_manager = WordEmbeddingManager(WORD2VEC_MODEL_PATH)"
   ]
  },
  {
   "cell_type": "code",
   "execution_count": 4,
   "metadata": {},
   "outputs": [],
   "source": [
    "dataloader = create_embedding_dataloader(tokenized_sentences, word2vec_manager, seq_length=10, batch_size=4)"
   ]
  },
  {
   "cell_type": "code",
   "execution_count": 6,
   "metadata": {},
   "outputs": [
    {
     "data": {
      "text/plain": [
       "tensor([[[ 2.4565e-02,  5.1748e-01, -5.9399e-01,  ..., -4.1718e-01,\n",
       "           7.6922e-01,  5.4657e-01],\n",
       "         [-1.3729e-01,  5.1425e-01, -4.8553e-01,  ..., -4.0286e-01,\n",
       "           5.1330e-01,  2.8110e-01],\n",
       "         [-1.4272e-01,  1.4315e+00, -1.7884e-02,  ..., -6.7034e-01,\n",
       "           4.4811e-01,  1.0103e+00],\n",
       "         ...,\n",
       "         [ 9.4943e-04,  5.0629e-02, -4.4952e-02,  ..., -3.9130e-02,\n",
       "           6.1908e-02,  1.8515e-02],\n",
       "         [-1.7381e-02,  8.8856e-02, -1.1984e-01,  ..., -9.7379e-02,\n",
       "           1.5058e-01,  1.1743e-01],\n",
       "         [-4.2222e-01,  6.5892e-01, -3.0751e-01,  ..., -3.9470e-01,\n",
       "           8.3220e-01,  1.0330e+00]],\n",
       "\n",
       "        [[-6.3585e-02,  6.9724e-01, -6.9868e-01,  ..., -5.0057e-01,\n",
       "           7.8134e-01,  6.3834e-01],\n",
       "         [-1.0421e-01,  6.8249e-01, -8.9117e-01,  ..., -7.5829e-01,\n",
       "           7.2251e-01,  2.4830e-01],\n",
       "         [ 2.9479e-01,  5.2084e-01, -3.0711e-01,  ..., -4.7313e-01,\n",
       "           6.5089e-01,  1.2639e+00],\n",
       "         ...,\n",
       "         [-4.0002e-02,  2.6345e-01, -2.2469e-01,  ..., -2.2752e-01,\n",
       "           2.6058e-01,  2.0249e-01],\n",
       "         [-2.9856e-01,  7.0818e-01, -5.3378e-01,  ..., -4.9857e-01,\n",
       "           7.5833e-01,  8.7746e-01],\n",
       "         [ 0.0000e+00,  0.0000e+00,  0.0000e+00,  ...,  0.0000e+00,\n",
       "           0.0000e+00,  0.0000e+00]],\n",
       "\n",
       "        [[ 8.9216e-02,  1.6816e-01, -4.3743e-01,  ..., -1.7318e-01,\n",
       "           4.3978e-01,  3.0291e-01],\n",
       "         [-4.2222e-01,  6.5892e-01, -3.0751e-01,  ..., -3.9470e-01,\n",
       "           8.3220e-01,  1.0330e+00],\n",
       "         [-1.0421e-01,  6.8249e-01, -8.9117e-01,  ..., -7.5829e-01,\n",
       "           7.2251e-01,  2.4830e-01],\n",
       "         ...,\n",
       "         [-4.8102e-02,  1.0335e+00, -3.0577e-01,  ..., -6.3652e-01,\n",
       "           5.5303e-01,  9.7647e-01],\n",
       "         [-1.5797e-03,  2.5046e-01, -2.7493e-01,  ..., -2.0191e-01,\n",
       "           3.1362e-01,  2.7380e-01],\n",
       "         [-4.2222e-01,  6.5892e-01, -3.0751e-01,  ..., -3.9470e-01,\n",
       "           8.3220e-01,  1.0330e+00]],\n",
       "\n",
       "        [[ 7.8684e-02,  7.6253e-01, -8.2946e-01,  ..., -5.1548e-01,\n",
       "           9.1305e-01,  1.0305e+00],\n",
       "         [ 1.5236e-01,  3.5470e-01, -5.3907e-01,  ..., -3.7204e-01,\n",
       "           6.8973e-01,  6.3771e-01],\n",
       "         [-2.7447e-02,  5.1473e-01, -5.1708e-01,  ..., -4.8432e-01,\n",
       "           5.8201e-01,  5.6601e-01],\n",
       "         ...,\n",
       "         [ 8.1879e-02,  4.0125e-01, -3.6892e-01,  ..., -4.2239e-01,\n",
       "           3.2220e-01,  7.0661e-01],\n",
       "         [-4.7440e-01,  5.7294e-01, -3.1409e-01,  ..., -6.3011e-01,\n",
       "           5.7569e-01,  1.3358e+00],\n",
       "         [ 0.0000e+00,  0.0000e+00,  0.0000e+00,  ...,  0.0000e+00,\n",
       "           0.0000e+00,  0.0000e+00]]])"
      ]
     },
     "execution_count": 6,
     "metadata": {},
     "output_type": "execute_result"
    }
   ],
   "source": [
    "next(iter(dataloader))"
   ]
  },
  {
   "cell_type": "code",
   "execution_count": null,
   "metadata": {},
   "outputs": [],
   "source": []
  }
 ],
 "metadata": {
  "kernelspec": {
   "display_name": "shaky_env",
   "language": "python",
   "name": "python3"
  },
  "language_info": {
   "codemirror_mode": {
    "name": "ipython",
    "version": 3
   },
   "file_extension": ".py",
   "mimetype": "text/x-python",
   "name": "python",
   "nbconvert_exporter": "python",
   "pygments_lexer": "ipython3",
   "version": "3.11.6"
  }
 },
 "nbformat": 4,
 "nbformat_minor": 2
}
